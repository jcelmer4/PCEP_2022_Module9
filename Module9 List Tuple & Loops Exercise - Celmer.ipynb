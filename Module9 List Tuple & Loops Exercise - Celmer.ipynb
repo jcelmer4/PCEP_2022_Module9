{
 "cells": [
  {
   "cell_type": "markdown",
   "metadata": {},
   "source": [
    "### Exercise 1\n",
    "Ask a user for 5 names and place each one in to a list called <i>names</i>. Then, print <i>names</i>."
   ]
  },
  {
   "cell_type": "code",
   "execution_count": 1,
   "metadata": {},
   "outputs": [
    {
     "name": "stdout",
     "output_type": "stream",
     "text": [
      "Enter a name: Tim\n",
      "Enter a name: Sam\n",
      "Enter a name: Mary\n",
      "Enter a name: Jill\n",
      "Enter a name: Brian\n",
      "['Tim', 'Sam', 'Mary', 'Jill', 'Brian']\n"
     ]
    }
   ],
   "source": [
    "#Prompt user for names\n",
    "names=[]\n",
    "names.append(input(\"Enter a name: \"))\n",
    "names.append(input(\"Enter a name: \"))\n",
    "names.append(input(\"Enter a name: \"))\n",
    "names.append(input(\"Enter a name: \"))\n",
    "names.append(input(\"Enter a name: \"))\n",
    "print(names)"
   ]
  },
  {
   "cell_type": "markdown",
   "metadata": {},
   "source": [
    "### Exercise 2\n",
    "Print out a randomly selected name in the names list from exercise 1."
   ]
  },
  {
   "cell_type": "code",
   "execution_count": 12,
   "metadata": {},
   "outputs": [
    {
     "name": "stdout",
     "output_type": "stream",
     "text": [
      "['Tim', 'Sam', 'Mary', 'Jill', 'Brian']\n",
      "Tim\n"
     ]
    }
   ],
   "source": [
    "import random as rand\n",
    "print(names)\n",
    "max = (len(names)) - 1\n",
    "x = rand.randint(0,max)\n",
    "name_random = names[x]\n",
    "print(name_random)"
   ]
  },
  {
   "cell_type": "markdown",
   "metadata": {},
   "source": [
    "### Exercise 3: \n",
    "Fix bugs in the next cell.  It is trying to create a list for even numbers between two numbers provided by a user.\n"
   ]
  },
  {
   "cell_type": "code",
   "execution_count": 13,
   "metadata": {},
   "outputs": [
    {
     "name": "stdout",
     "output_type": "stream",
     "text": [
      "Enter a starting number: 10\n",
      "Enter an ending number: 100\n",
      "[10, 11, 12, 13, 14, 15, 16, 17, 18, 19, 20, 21, 22, 23, 24, 25, 26, 27, 28, 29, 30, 31, 32, 33, 34, 35, 36, 37, 38, 39, 40, 41, 42, 43, 44, 45, 46, 47, 48, 49, 50, 51, 52, 53, 54, 55, 56, 57, 58, 59, 60, 61, 62, 63, 64, 65, 66, 67, 68, 69, 70, 71, 72, 73, 74, 75, 76, 77, 78, 79, 80, 81, 82, 83, 84, 85, 86, 87, 88, 89, 90, 91, 92, 93, 94, 95, 96, 97, 98, 99, 100]\n",
      "[10, 12, 14, 16, 18, 20, 22, 24, 26, 28, 30, 32, 34, 36, 38, 40, 42, 44, 46, 48, 50, 52, 54, 56, 58, 60, 62, 64, 66, 68, 70, 72, 74, 76, 78, 80, 82, 84, 86, 88, 90, 92, 94, 96, 98, 100]\n"
     ]
    }
   ],
   "source": [
    "# add \"int\" to make input be an integar\n",
    "no1 = int(input(\"Enter a starting number: \"))\n",
    "no2 = int(input(\"Enter an ending number: \"))\n",
    "\n",
    "numbers = []\n",
    "evens = []\n",
    "#to account for the end number\n",
    "for i in range(no1, no2+1) :\n",
    "    numbers.append(i) \n",
    "    # add \":\" end of if statement\n",
    "    if (i%2 == 0):    # even number\n",
    "        evens.append(i)\n",
    "    \n",
    "print(numbers)    \n",
    "print(evens)"
   ]
  },
  {
   "cell_type": "markdown",
   "metadata": {},
   "source": [
    "### Exercise 4\n",
    "Finish writing a program to generate 10 random numbers between 1 and 100 and save it to a list.\n",
    "Finally, print out the original numbers followed by the smallest, largest, and average number."
   ]
  },
  {
   "cell_type": "code",
   "execution_count": 15,
   "metadata": {},
   "outputs": [
    {
     "name": "stdout",
     "output_type": "stream",
     "text": [
      "Org Numbers are [92, 76, 40, 79, 49, 10, 38, 23, 26, 14]\n",
      "Sorted numbers are [10, 14, 23, 26, 38, 40, 49, 76, 79, 92]\n",
      "Largest number is 92\n",
      "Smallest number is 10\n",
      "Average is 44.7\n"
     ]
    }
   ],
   "source": [
    "import random as rand\n",
    "\n",
    "numbers = []\n",
    "total = 0\n",
    "\n",
    "for i in range(1, 11) :\n",
    "    numb = rand.randint(1, 100)\n",
    "    total += numb\n",
    "    numbers.append(numb)\n",
    "    \n",
    "# create copy of original numbers\n",
    "org_numbs = numbers.copy()\n",
    "# some code needed here to find the smallest, largest, and average number\n",
    "\n",
    "#sort numbers lowest to highest\n",
    "numbers= sorted(org_numbs)\n",
    "# use index [0] to get first (smallest) number\n",
    "smallest= numbers[0]\n",
    "#use index[-1] to get last (largest) number\n",
    "largest= numbers[-1]\n",
    "\n",
    "#calculation to get average\n",
    "avg = total/(len(org_numbs))\n",
    "\n",
    "print(f\"Org Numbers are {org_numbs}\")\n",
    "print(f\"Sorted numbers are {numbers}\")\n",
    "print(f\"Largest number is {largest}\")\n",
    "print(f\"Smallest number is {smallest}\")\n",
    "print(f\"Average is {avg}\")"
   ]
  },
  {
   "cell_type": "markdown",
   "metadata": {},
   "source": [
    "### Exercise 5\n",
    "\n",
    "Write a function called <b>draw_triangle()</b> to draw a right triangle where the base of the triangle is the number passed in as an arguement. Call <b>draw_triangle()</b> to show it works.\n",
    "\n",
    "e.g. <b>draw_triangle(7)</b> draws as below:\n",
    "\n",
    "    *\n",
    "    **\n",
    "    ***\n",
    "    ****\n",
    "    *****\n",
    "    ******\n",
    "    *******\n"
   ]
  },
  {
   "cell_type": "code",
   "execution_count": 16,
   "metadata": {},
   "outputs": [],
   "source": [
    "# write code for draw_triangle() function\n",
    "\n",
    "def draw_triangle():\n",
    "    #loop to draw triangle\n",
    "    for i in range(1, base+1):\n",
    "        draw = '*' * i\n",
    "        print(draw)\n",
    "    "
   ]
  },
  {
   "cell_type": "code",
   "execution_count": 17,
   "metadata": {},
   "outputs": [
    {
     "name": "stdout",
     "output_type": "stream",
     "text": [
      "Enter a number: 7\n",
      "*\n",
      "**\n",
      "***\n",
      "****\n",
      "*****\n",
      "******\n",
      "*******\n"
     ]
    }
   ],
   "source": [
    "#prompt user for number\n",
    "base = int(input(\"Enter a number: \"))\n",
    "# call function\n",
    "draw_triangle()"
   ]
  },
  {
   "cell_type": "code",
   "execution_count": null,
   "metadata": {},
   "outputs": [],
   "source": []
  }
 ],
 "metadata": {
  "kernelspec": {
   "display_name": "Python 3 (ipykernel)",
   "language": "python",
   "name": "python3"
  },
  "language_info": {
   "codemirror_mode": {
    "name": "ipython",
    "version": 3
   },
   "file_extension": ".py",
   "mimetype": "text/x-python",
   "name": "python",
   "nbconvert_exporter": "python",
   "pygments_lexer": "ipython3",
   "version": "3.9.12"
  }
 },
 "nbformat": 4,
 "nbformat_minor": 4
}
